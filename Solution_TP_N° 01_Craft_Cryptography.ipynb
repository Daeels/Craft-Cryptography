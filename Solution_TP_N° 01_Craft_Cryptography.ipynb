{
 "cells": [
  {
   "cell_type": "markdown",
   "id": "0faaa7dc",
   "metadata": {},
   "source": [
    "# Élève : IRGUI Ilyas "
   ]
  },
  {
   "cell_type": "markdown",
   "id": "2e3a4ca9",
   "metadata": {},
   "source": [
    "<h2> Exercice 1: Chiffre de César </h2>"
   ]
  },
  {
   "cell_type": "markdown",
   "id": "017b36cc",
   "metadata": {},
   "source": [
    "<h4> 1) </h4>"
   ]
  },
  {
   "cell_type": "code",
   "execution_count": 1,
   "id": "576aea61",
   "metadata": {
    "scrolled": true
   },
   "outputs": [
    {
     "data": {
      "text/plain": [
       "'MFFMCGQXQOTMFQMG'"
      ]
     },
     "execution_count": 1,
     "metadata": {},
     "output_type": "execute_result"
    }
   ],
   "source": [
    "def chiffr_cesar(ch, k):\n",
    "    ch = [ord(o)-65 for o in ch]\n",
    "    l1 = [(i+k)%26 for i in ch]\n",
    "    l2 = [chr(j+65) for j in l1]\n",
    "    return \"\".join(l2)\n",
    "\n",
    "chiffr_cesar(\"ATTAQUELECHATEAU\", 12)"
   ]
  },
  {
   "cell_type": "markdown",
   "id": "9368f15f",
   "metadata": {},
   "source": [
    "<h4> 2) </h4>"
   ]
  },
  {
   "cell_type": "code",
   "execution_count": 2,
   "id": "97a3ba45",
   "metadata": {},
   "outputs": [
    {
     "name": "stdout",
     "output_type": "stream",
     "text": [
      "Chaîne chiffrée : MFFMCGQXQOTMFQMG\n",
      "Chaîne déchiffrée : ATTAQUELECHATEAU\n"
     ]
    }
   ],
   "source": [
    "String = \"ATTAQUELECHATEAU\"\n",
    "chiffre = chiffr_cesar(String, 12)\n",
    "print(\"Chaîne chiffrée : \"+ chiffre)\n",
    "dechiffre = chiffr_cesar(chiffre, -12)\n",
    "print(\"Chaîne déchiffrée : \"+ dechiffre)"
   ]
  },
  {
   "cell_type": "markdown",
   "id": "6015c695",
   "metadata": {},
   "source": [
    "<h4> 3) </h4>"
   ]
  },
  {
   "cell_type": "code",
   "execution_count": 3,
   "id": "96bfd43e",
   "metadata": {},
   "outputs": [
    {
     "name": "stdout",
     "output_type": "stream",
     "text": [
      "MFFMCGQXQOTMFQMG\n",
      "LEELBFPWPNSLEPLF\n",
      "KDDKAEOVOMRKDOKE\n",
      "JCCJZDNUNLQJCNJD\n",
      "IBBIYCMTMKPIBMIC\n",
      "HAAHXBLSLJOHALHB\n",
      "GZZGWAKRKINGZKGA\n",
      "FYYFVZJQJHMFYJFZ\n",
      "EXXEUYIPIGLEXIEY\n",
      "DWWDTXHOHFKDWHDX\n",
      "CVVCSWGNGEJCVGCW\n",
      "BUUBRVFMFDIBUFBV\n",
      "ATTAQUELECHATEAU\n",
      "ZSSZPTDKDBGZSDZT\n",
      "YRRYOSCJCAFYRCYS\n",
      "XQQXNRBIBZEXQBXR\n",
      "WPPWMQAHAYDWPAWQ\n",
      "VOOVLPZGZXCVOZVP\n",
      "UNNUKOYFYWBUNYUO\n",
      "TMMTJNXEXVATMXTN\n",
      "SLLSIMWDWUZSLWSM\n",
      "RKKRHLVCVTYRKVRL\n",
      "QJJQGKUBUSXQJUQK\n",
      "PIIPFJTATRWPITPJ\n",
      "OHHOEISZSQVOHSOI\n",
      "NGGNDHRYRPUNGRNH\n"
     ]
    }
   ],
   "source": [
    "def cesar_cryptanalyse(String):\n",
    "    for k in range(26):\n",
    "        print(chiffr_cesar(String, -k))\n",
    "        \n",
    "cesar_cryptanalyse(chiffre)"
   ]
  },
  {
   "cell_type": "markdown",
   "id": "b1822ea1",
   "metadata": {},
   "source": [
    "<h2> Exercice 2: Chiffrement par Substitution Mono-Alphabétique </h2>"
   ]
  },
  {
   "cell_type": "markdown",
   "id": "291cfcbb",
   "metadata": {},
   "source": [
    "<h4> 1) </h4>"
   ]
  },
  {
   "cell_type": "code",
   "execution_count": 4,
   "id": "9bab1272",
   "metadata": {},
   "outputs": [
    {
     "name": "stdout",
     "output_type": "stream",
     "text": [
      "ABCDEFGHIJKLMNOPQRSTUVWXYZ\t\n"
     ]
    },
    {
     "data": {
      "text/plain": [
       "'DEPCBHFYMQOSNWVITLJZAGURXK'"
      ]
     },
     "execution_count": 4,
     "metadata": {},
     "output_type": "execute_result"
    }
   ],
   "source": [
    "import string\n",
    "from random import shuffle\n",
    "def Tab():\n",
    "    alpha = string.ascii_uppercase\n",
    "    l = list(alpha)\n",
    "    while True:\n",
    "        shuffle(l)\n",
    "        for a, b in zip(list(alpha), l):\n",
    "            if a == b : \n",
    "                break\n",
    "        else:\n",
    "            return(\"\".join(l))\n",
    "\n",
    "print(string.ascii_uppercase+\"\\t\")\n",
    "\n",
    "cle = Tab()\n",
    "cle"
   ]
  },
  {
   "cell_type": "markdown",
   "id": "7a1e204a",
   "metadata": {},
   "source": [
    "<h4> 2) </h4>"
   ]
  },
  {
   "cell_type": "code",
   "execution_count": 5,
   "id": "2ed3a42c",
   "metadata": {},
   "outputs": [],
   "source": [
    "def chiffr_monoalpha(msg, cle):\n",
    "    alpha = string.ascii_uppercase\n",
    "    chiffre = \"\"\n",
    "    for l in msg:\n",
    "        i = alpha.index(l)\n",
    "        chiffre += cle[i]\n",
    "    return chiffre\n",
    "\n",
    "f0 = open('Msg.txt','r')\n",
    "msg = f0.read()\n",
    "chiffre = chiffr_monoalpha(msg, cle)\n",
    "f1 = open('Chiffre_msg.txt','w')\n",
    "f1.write(chiffre)\n",
    "f1.close()"
   ]
  },
  {
   "cell_type": "markdown",
   "id": "f5a6876d",
   "metadata": {},
   "source": [
    "<h4> 3) </h4>"
   ]
  },
  {
   "cell_type": "code",
   "execution_count": 6,
   "id": "29008182",
   "metadata": {},
   "outputs": [],
   "source": [
    "def frequence(msg,l):\n",
    "    c = 0\n",
    "    msg = msg.replace(\" \",\"\")\n",
    "    for i in msg:\n",
    "        if i == l:\n",
    "            c += 1\n",
    "    return (c/len(msg) * 100)"
   ]
  },
  {
   "cell_type": "markdown",
   "id": "01727cc8",
   "metadata": {},
   "source": [
    "<h4> 4) </h4>"
   ]
  },
  {
   "cell_type": "code",
   "execution_count": 7,
   "id": "ceef3c34",
   "metadata": {},
   "outputs": [
    {
     "name": "stdout",
     "output_type": "stream",
     "text": [
      "['D', 'Z', 'B', 'A', 'T', 'S', 'P', 'Y']-->['E', 'S', 'A', 'I', 'N', 'T', 'R', 'U', 'L', 'O', 'D']\n",
      "Le_vrai_message : ATTAQUELECHATEAU, le_Chiffre : DZZDTABSBPYDZBDA, Tentative_de_cryptanalyse : ESSENIATARUESAEI\n"
     ]
    }
   ],
   "source": [
    "f1 = open('Chiffre_msg.txt','r')\n",
    "chiffre = f1.read()\n",
    "\n",
    "stats = ['E','S','A','I', 'N', 'T', 'R', 'U', 'L', 'O', 'D']\n",
    "\n",
    "tab = {}\n",
    "for i in chiffre : \n",
    "    tab[i] = frequence(chiffre,i)\n",
    "app = dict(sorted(tab.items(), key=lambda item: item[1], reverse=True))\n",
    "\n",
    "l = list(app.keys())\n",
    "print(\"{}-->{}\".format(l,stats))\n",
    "\n",
    "l1=[]\n",
    "for a,b in zip(l, stats):\n",
    "    a = b\n",
    "    l1.append(a)\n",
    "    \n",
    "dech = []\n",
    "for i in list(chiffre):\n",
    "    for j in range(len(l)):\n",
    "        if i == l[j]:\n",
    "            dech.append(l1[j])  \n",
    "            \n",
    "print(\"Le_vrai_message : {}, le_Chiffre : {}, Tentative_de_cryptanalyse : {}\".format(msg,chiffre,\"\".join(dech)))"
   ]
  },
  {
   "cell_type": "markdown",
   "id": "de8b75d6",
   "metadata": {},
   "source": [
    "<h2> Exercice 3 : Chiffrement de Vigenère </h2>"
   ]
  },
  {
   "cell_type": "code",
   "execution_count": 8,
   "id": "812ad7fc",
   "metadata": {},
   "outputs": [],
   "source": [
    "def vigenere(msg, cle):\n",
    "    chiffre=\"\"\n",
    "    i=0\n",
    "    for l in msg:\n",
    "        a = ord(l) - 65\n",
    "        b = (a + cle[i])%26\n",
    "        c = chr(b + 65)\n",
    "        i = (i + 1)%len(cle)\n",
    "        chiffre += c\n",
    "    f = open(\"chiffre_vigenere.txt\", \"w\")\n",
    "    f.write(chiffre)\n",
    "    f.close\n",
    "    return chiffre\n",
    "\n",
    "vig = vigenere(\"ATTAQUELECHATEAU\", [2,9,8,12])   "
   ]
  },
  {
   "cell_type": "code",
   "execution_count": 9,
   "id": "711a2d11",
   "metadata": {},
   "outputs": [
    {
     "data": {
      "text/plain": [
       "'ATTAQUELECHATEAU'"
      ]
     },
     "execution_count": 9,
     "metadata": {},
     "output_type": "execute_result"
    }
   ],
   "source": [
    "def dechiffr_vigenere(msg, cle):\n",
    "    dechiffre=\"\"\n",
    "    i=0\n",
    "    for l in msg:\n",
    "        a = ord(l) - 65\n",
    "        b = (a - cle[i]) % 26\n",
    "        c = chr(b + 65)\n",
    "        i = (i + 1) % len(cle) \n",
    "        dechiffre += c\n",
    "    return dechiffre\n",
    "\n",
    "dechiffr_vigenere(vig,[2,9,8,12])"
   ]
  },
  {
   "cell_type": "markdown",
   "id": "a8cf3c40",
   "metadata": {},
   "source": [
    "<h4>Cette fonction rassemble le chiffrement et le déchiffrement de vigenere en indiquant le paramètre booléen \"decoder\"</h4>"
   ]
  },
  {
   "cell_type": "code",
   "execution_count": 10,
   "id": "5a3ea956",
   "metadata": {},
   "outputs": [
    {
     "data": {
      "text/plain": [
       "'ATTAQUELECHATEAU'"
      ]
     },
     "execution_count": 10,
     "metadata": {},
     "output_type": "execute_result"
    }
   ],
   "source": [
    "def vigenere ( msg, cle, decoder = False) :\n",
    "    output=\"\"\n",
    "    i=0\n",
    "    for l in msg:\n",
    "        a = ord(l) - 65\n",
    "        d = cle[i]\n",
    "        if decoder : d = - cle[i]\n",
    "        b = (a + d) % 26\n",
    "        c = chr(b + 65)\n",
    "        i = (i + 1) % len(cle) \n",
    "        output += c\n",
    "    return output\n",
    "\n",
    "vigenere(vig, [2,9,8,12], True)"
   ]
  },
  {
   "cell_type": "markdown",
   "id": "87a3e162",
   "metadata": {},
   "source": [
    "<h2> Exercice 4: Chiffre Homophone </h2>"
   ]
  },
  {
   "cell_type": "markdown",
   "id": "626d24de",
   "metadata": {},
   "source": [
    "<h4> 1) </h4>"
   ]
  },
  {
   "cell_type": "code",
   "execution_count": 11,
   "id": "d9b23bee",
   "metadata": {
    "scrolled": false
   },
   "outputs": [
    {
     "data": {
      "text/plain": [
       "{'A': [5, 32, 27, 74, 6, 94, 67, 33],\n",
       " 'B': [36],\n",
       " 'C': [23, 4, 49],\n",
       " 'D': [14, 28, 66],\n",
       " 'E': [85, 93, 31, 68, 82, 37, 92, 54, 29, 15, 84, 46, 57, 44, 16, 75, 88],\n",
       " 'F': [47],\n",
       " 'G': [21],\n",
       " 'H': [41],\n",
       " 'I': [48, 38, 43, 8, 7, 26, 96],\n",
       " 'J': [65],\n",
       " 'K': [99],\n",
       " 'L': [17, 58, 73, 79, 62],\n",
       " 'M': [90, 52],\n",
       " 'N': [30, 35, 39, 64, 95, 60, 12],\n",
       " 'O': [9, 11, 34, 91, 89],\n",
       " 'P': [18, 1],\n",
       " 'Q': [71],\n",
       " 'R': [51, 70, 87, 25, 61, 97],\n",
       " 'S': [78, 20, 42, 77, 2, 69, 53, 10],\n",
       " 'T': [19, 55, 24, 83, 81, 22, 86],\n",
       " 'U': [72, 45, 63, 3, 59, 56],\n",
       " 'V': [98],\n",
       " 'W': [76],\n",
       " 'X': [40],\n",
       " 'Y': [50],\n",
       " 'Z': [80]}"
      ]
     },
     "execution_count": 11,
     "metadata": {},
     "output_type": "execute_result"
    }
   ],
   "source": [
    "import random\n",
    "def homo_tab():\n",
    "    alpha = list(string.ascii_uppercase)\n",
    "    st = [8,1,3,3,17,1,1,1,7,1,1,5,2,7,5,2,1,6,8,7,6,1,1,1,1,1]\n",
    "    tab = {}\n",
    "    l = [o for o in range(1, 100)]\n",
    "    for i,j in zip(st,alpha):\n",
    "        l1 = random.sample(l, k = i)\n",
    "        tab[j]=l1\n",
    "        for k in l1:\n",
    "            if k in l:\n",
    "                l.remove(k)\n",
    "    return tab\n",
    "\n",
    "tab = homo_tab()  \n",
    "tab"
   ]
  },
  {
   "cell_type": "markdown",
   "id": "abb8a8b6",
   "metadata": {},
   "source": [
    "<h4> 2) </h4>"
   ]
  },
  {
   "cell_type": "code",
   "execution_count": 12,
   "id": "f2bf2c57",
   "metadata": {},
   "outputs": [
    {
     "data": {
      "text/plain": [
       "'5 55 24 74 71 56 92 73 29 23 41 74 22 44 67 3'"
      ]
     },
     "execution_count": 12,
     "metadata": {},
     "output_type": "execute_result"
    }
   ],
   "source": [
    "def chiffr_homo(msg,tab):\n",
    "    c = []\n",
    "    i = 0\n",
    "    for l in msg:\n",
    "        nbr = len(tab[l])\n",
    "        c.append(tab[l][i%nbr])\n",
    "        i += 1\n",
    "    chiffre = \" \".join([str(j) for j in c])\n",
    "    return chiffre\n",
    "\n",
    "chiffr_homo(\"ATTAQUELECHATEAU\", tab)"
   ]
  },
  {
   "cell_type": "markdown",
   "id": "35e7016b",
   "metadata": {},
   "source": [
    "<h4> 3.a) </h4>"
   ]
  },
  {
   "cell_type": "code",
   "execution_count": 13,
   "id": "91b4d052",
   "metadata": {},
   "outputs": [
    {
     "data": {
      "text/plain": [
       "array([['D', 'V', 'J', 'Y', 'M'],\n",
       "       ['A', 'E', 'H', 'X', 'N'],\n",
       "       ['K', 'R', 'I', 'F', 'Z'],\n",
       "       ['T', 'S', 'U', 'O', 'P'],\n",
       "       ['C', 'Q', 'B', 'L', 'G']], dtype='<U1')"
      ]
     },
     "execution_count": 13,
     "metadata": {},
     "output_type": "execute_result"
    }
   ],
   "source": [
    "import numpy as np\n",
    "def carre_polybe():\n",
    "    carre = np.empty((5,5), str)\n",
    "    alpha = list(string.ascii_uppercase.replace('W', ''))\n",
    "    for i in range(5):\n",
    "        carre[i] = list(random.sample(alpha, k = 5))\n",
    "        for k in carre[i]:\n",
    "            if k in alpha:\n",
    "                alpha.remove(k)\n",
    "    return carre\n",
    "\n",
    "carre = carre_polybe()\n",
    "carre"
   ]
  },
  {
   "cell_type": "code",
   "execution_count": 14,
   "id": "5e942153",
   "metadata": {},
   "outputs": [
    {
     "data": {
      "text/plain": [
       "['ED',\n",
       " 'UD',\n",
       " 'OD',\n",
       " 'ND',\n",
       " 'CE',\n",
       " 'SH',\n",
       " 'XR',\n",
       " 'GX',\n",
       " 'AS',\n",
       " 'BK',\n",
       " 'XU',\n",
       " 'NT',\n",
       " 'SC',\n",
       " 'HQ',\n",
       " 'XC',\n",
       " 'PB']"
      ]
     },
     "execution_count": 14,
     "metadata": {},
     "output_type": "execute_result"
    }
   ],
   "source": [
    "def chiffr_polybe(msg, carre):\n",
    "    tab = {}\n",
    "    chiffr = []\n",
    "    a = 0\n",
    "    for t in msg:\n",
    "        i,j = list(zip(np.where(carre==t)[0],np.where(carre==t)[1]))[0]\n",
    "        rs = []\n",
    "        rl = []\n",
    "        \n",
    "        for i1 in range(5):\n",
    "            for j1 in range(5):\n",
    "                if ((i1!=i) and (j1!=j)):\n",
    "                    rs.append(((i,j1),(i1,j)))\n",
    "        \n",
    "        for result in rs:\n",
    "            rl.append(str(carre[result[0]]+carre[result[1]]))\n",
    "        \n",
    "        tab[t] = rl \n",
    "\n",
    "        chiffr.append(tab[t][a%16])\n",
    "        a += 1\n",
    "        \n",
    "    return chiffr\n",
    "\n",
    "chiffr_polybe(\"ATTAQUELECHATEAU\", carre)"
   ]
  },
  {
   "cell_type": "markdown",
   "id": "62b60df2",
   "metadata": {},
   "source": [
    "<h4> 3.b) </h4>"
   ]
  },
  {
   "cell_type": "code",
   "execution_count": 15,
   "id": "ce86f90a",
   "metadata": {},
   "outputs": [
    {
     "data": {
      "text/plain": [
       "array([['', '12345', '6', '7', '8', '9'],\n",
       "       ['12345', 'E', 'A', 'S', 'T', 'R'],\n",
       "       ['6', 'I', 'B', 'C', 'D', 'F'],\n",
       "       ['7', 'L', 'G', 'H', 'K', 'M'],\n",
       "       ['8', 'N', 'O', 'P', 'Q', 'V'],\n",
       "       ['9', 'U', 'W', 'X', 'Y', 'Z']], dtype=object)"
      ]
     },
     "execution_count": 15,
     "metadata": {},
     "output_type": "execute_result"
    }
   ],
   "source": [
    "carre_2 = np.empty((6,6), dtype='O')\n",
    "carre_2[0] = ['','12345', '6', '7', '8', '9']\n",
    "carre_2[1] = ['12345','E','A','S','T','R']\n",
    "carre_2[2] = ['6','I','B','C','D','F']  \n",
    "carre_2[3] = ['7','L','G','H','K','M']\n",
    "carre_2[4] = ['8','N','O','P','Q','V']\n",
    "carre_2[5] = ['9','U','W','X','Y','Z']\n",
    "carre_2"
   ]
  },
  {
   "cell_type": "code",
   "execution_count": 16,
   "id": "29263a93",
   "metadata": {},
   "outputs": [
    {
     "data": {
      "text/plain": [
       "'36581816889521725367773618313695'"
      ]
     },
     "execution_count": 16,
     "metadata": {},
     "output_type": "execute_result"
    }
   ],
   "source": [
    "def Alternative_2(msg, carre):\n",
    "    chiffr = ''\n",
    "    for t in msg:\n",
    "        i,j = list(zip(np.where(carre==t)[0],np.where(carre==t)[1]))[0]\n",
    "        \n",
    "            \n",
    "        chiffr += str(random.choice(carre[i][0])+random.choice(carre[0][j]))\n",
    "        \n",
    "    return chiffr\n",
    "\n",
    "Alternative_2(\"ATTAQUELECHATEAU\", carre_2)"
   ]
  },
  {
   "cell_type": "markdown",
   "id": "dade302a",
   "metadata": {},
   "source": [
    "<h2> Exercice 5: Chiffre de Hill (m = 2) </h2>"
   ]
  },
  {
   "cell_type": "markdown",
   "id": "89a6328e",
   "metadata": {},
   "source": [
    "<h4> 1) </h4>"
   ]
  },
  {
   "cell_type": "code",
   "execution_count": 17,
   "id": "edc27f54",
   "metadata": {},
   "outputs": [],
   "source": [
    "def pgcd(a,b):\n",
    "    return a if b==0 else pgcd(b,a%b)\n",
    "    \n",
    "def inverse_nbr(n):\n",
    "    if pgcd(n,26) == 1:\n",
    "        return 1/n\n",
    "    else:\n",
    "        return 0"
   ]
  },
  {
   "cell_type": "markdown",
   "id": "e3923170",
   "metadata": {},
   "source": [
    "<h4> 2) </h4>"
   ]
  },
  {
   "cell_type": "code",
   "execution_count": 18,
   "id": "32411bac",
   "metadata": {},
   "outputs": [
    {
     "data": {
      "text/plain": [
       "array([[2, 3],\n",
       "       [1, 2]])"
      ]
     },
     "execution_count": 18,
     "metadata": {},
     "output_type": "execute_result"
    }
   ],
   "source": [
    "def generate_matrix():\n",
    "    while True:\n",
    "        matrice = np.random.randint(5, size = (2,2))\n",
    "        det = np.linalg.det(matrice)\n",
    "        if inverse_nbr(det) != 0:\n",
    "            break\n",
    "    return matrice\n",
    "\n",
    "q = generate_matrix()\n",
    "q"
   ]
  },
  {
   "cell_type": "markdown",
   "id": "2228ad6c",
   "metadata": {},
   "source": [
    "<h4> 3) </h4>"
   ]
  },
  {
   "cell_type": "code",
   "execution_count": 19,
   "id": "2e3b3516",
   "metadata": {},
   "outputs": [
    {
     "data": {
      "text/plain": [
       "'FMMTOEPAOIOHYBIO'"
      ]
     },
     "execution_count": 19,
     "metadata": {},
     "output_type": "execute_result"
    }
   ],
   "source": [
    "def chiffr_hill(msg, q):\n",
    "    y = []\n",
    "    blocs = []\n",
    "    for i in range(0, len(msg), 2):\n",
    "        blocs.append([(ord(msg[i])-65), (ord(msg[i+1])-65)])\n",
    "\n",
    "    for bloc in blocs:\n",
    "        rs = (q.dot(bloc)%26).tolist()\n",
    "        rs = [chr(r+65) for r in rs]\n",
    "        \n",
    "        y.append(\"\".join(rs))\n",
    "    \n",
    "    return \"\".join(y)\n",
    "\n",
    "hill = chiffr_hill(\"ATTAQUELECHATEAU\",q)  \n",
    "hill"
   ]
  },
  {
   "cell_type": "markdown",
   "id": "63ed6069",
   "metadata": {},
   "source": [
    "<h4> 4) </h4>"
   ]
  },
  {
   "cell_type": "code",
   "execution_count": 20,
   "id": "cef9f4ba",
   "metadata": {},
   "outputs": [
    {
     "data": {
      "text/plain": [
       "'ATTAQUELECHATEAU'"
      ]
     },
     "execution_count": 20,
     "metadata": {},
     "output_type": "execute_result"
    }
   ],
   "source": [
    "def dechiffr_hill(msg, q):\n",
    "    y = []\n",
    "    blocs = []\n",
    "    for i in range(0, len(msg), 2):\n",
    "        blocs.append([(ord(msg[i])-65), (ord(msg[i+1])-65)])\n",
    "        \n",
    "    for bloc in blocs:\n",
    "        rs = ((np.linalg.inv(q).dot(bloc))%26).tolist()\n",
    "        rs = [chr(int(r)+65) for r in rs]\n",
    "        \n",
    "        y.append(\"\".join(rs))\n",
    "    \n",
    "    return \"\".join(y)\n",
    "\n",
    "dechiffr_hill(hill,q)"
   ]
  },
  {
   "cell_type": "markdown",
   "id": "8cf4adaa",
   "metadata": {},
   "source": [
    "<h4> 5) </h4>"
   ]
  },
  {
   "cell_type": "code",
   "execution_count": 21,
   "id": "5b35c736",
   "metadata": {},
   "outputs": [
    {
     "name": "stdout",
     "output_type": "stream",
     "text": [
      "Message en clair : ILYASIRGUI\n",
      "message chiffré : XEWYIIADMK\n",
      "message déchiffré : ILYASIRGUI\n"
     ]
    }
   ],
   "source": [
    "msg = \"ILYASIRGUI\"\n",
    "print(\"Message en clair :\", msg)\n",
    "message_code = chiffr_hill(msg, q)\n",
    "print (\"message chiffré :\", message_code)\n",
    "message_decode = dechiffr_hill(message_code, q)\n",
    "print (\"message déchiffré :\", message_decode)"
   ]
  }
 ],
 "metadata": {
  "kernelspec": {
   "display_name": "Python 3.7.9",
   "language": "python",
   "name": "python3"
  },
  "language_info": {
   "codemirror_mode": {
    "name": "ipython",
    "version": 3
   },
   "file_extension": ".py",
   "mimetype": "text/x-python",
   "name": "python",
   "nbconvert_exporter": "python",
   "pygments_lexer": "ipython3",
   "version": "3.7.10"
  }
 },
 "nbformat": 4,
 "nbformat_minor": 5
}
